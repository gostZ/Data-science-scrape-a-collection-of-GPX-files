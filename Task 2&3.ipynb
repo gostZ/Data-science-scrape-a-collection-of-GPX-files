{
 "cells": [
  {
   "cell_type": "markdown",
   "metadata": {
    "pycharm": {
     "name": "#%% md\n"
    }
   },
   "source": [
    "# Assignment 2\n",
    "# Task 2 ：Generate summary statistics\n",
    "Student name:Wushuo Zhang\n",
    "\n",
    "Student number: 21212298"
   ]
  },
  {
   "cell_type": "code",
   "execution_count": 1,
   "metadata": {
    "pycharm": {
     "name": "#%%\n"
    }
   },
   "outputs": [],
   "source": [
    "import gpxpy\n",
    "import gpxpy.gpx\n",
    "import gpxpy.parser as parser\n",
    "import pandas as pd\n",
    "import math\n",
    "import requests\n",
    "import time\n",
    "from pandas.plotting import scatter_matrix\n",
    "import seaborn as sns\n",
    "import matplotlib.pyplot as plt"
   ]
  },
  {
   "cell_type": "markdown",
   "metadata": {},
   "source": [
    "## Step 1: Loading data"
   ]
  },
  {
   "cell_type": "markdown",
   "metadata": {
    "pycharm": {
     "name": "#%% md\n"
    }
   },
   "source": [
    "Parsing an existing file:"
   ]
  },
  {
   "cell_type": "code",
   "execution_count": 2,
   "metadata": {
    "pycharm": {
     "name": "#%%\n"
    }
   },
   "outputs": [],
   "source": [
    "def read_file(num):\n",
    "    gpx_file = open('gpx_data/ev'+num+'.gpx', 'r')#Read files\n",
    "    gpx_parser = parser.GPXParser( gpx_file )\n",
    "    gpx = gpx_parser.parse()  # files parsing\n",
    "    gpx_file.close()\n",
    "    return gpx"
   ]
  },
  {
   "cell_type": "code",
   "execution_count": 3,
   "metadata": {
    "pycharm": {
     "name": "#%%\n"
    }
   },
   "outputs": [],
   "source": [
    "gpx = {}\n",
    "list_name = []\n",
    "route_name = []\n",
    "for i in range(1,16):\n",
    "    list_name.append(str(i))\n",
    "    route_name.append('EuroVelo '+str(i))\n",
    "list_name.append('17')\n",
    "list_name.append('19')\n",
    "route_name.append('EuroVelo 17')\n",
    "route_name.append('EuroVelo 19')\n",
    "for i in list_name:\n",
    "    gpx['EuroVelo '+i] = read_file(i)"
   ]
  },
  {
   "cell_type": "markdown",
   "metadata": {},
   "source": [
    "Get information about each point, including latitude, longitude, elevation and the name of the stage："
   ]
  },
  {
   "cell_type": "code",
   "execution_count": 4,
   "metadata": {
    "pycharm": {
     "name": "#%%\n"
    }
   },
   "outputs": [],
   "source": [
    "tracks = {}\n",
    "tracks_gpx = {}\n",
    "for i in route_name:\n",
    "    name = []\n",
    "    stage_name = []\n",
    "    latitude_list = []\n",
    "    longitude_list = []\n",
    "    elevation_list = []\n",
    "    tracks_gpx[i] = {}\n",
    "    count = 0\n",
    "    for track in gpx[i].tracks:\n",
    "        tracks_gpx[i][count+1] = track\n",
    "        for segment in track.segments:\n",
    "            count += 1\n",
    "            for point in segment.points:\n",
    "                name.append(count)\n",
    "                stage_name.append(track.name)\n",
    "                latitude_list.append(str(point.latitude))\n",
    "                longitude_list.append(str(point.longitude))\n",
    "                elevation_list.append(str(point.elevation))\n",
    "    tracks[i] = pd.DataFrame({\n",
    "    \"name\": name,\n",
    "    \"latitude\": latitude_list,\n",
    "    \"longitude\": longitude_list,\n",
    "    \"elevation\": elevation_list,\n",
    "    \"stage\":stage_name,\n",
    "    })"
   ]
  },
  {
   "cell_type": "markdown",
   "metadata": {},
   "source": [
    "View the methods available for gpx objects in the gpx library"
   ]
  },
  {
   "cell_type": "code",
   "execution_count": 5,
   "metadata": {
    "pycharm": {
     "name": "#%%\n"
    }
   },
   "outputs": [
    {
     "name": "stdout",
     "output_type": "stream",
     "text": [
      "All available methods for gpx objects: \n",
      " ['__class__', '__delattr__', '__dir__', '__doc__', '__eq__', '__format__', '__ge__', '__getattribute__', '__gt__', '__hash__', '__init__', '__init_subclass__', '__le__', '__lt__', '__module__', '__ne__', '__new__', '__reduce__', '__reduce_ex__', '__repr__', '__setattr__', '__sizeof__', '__slots__', '__str__', '__subclasshook__', 'add_elevation', 'add_missing_data', 'adjust_time', 'clone', 'comment', 'description', 'extensions', 'get_bounds', 'get_center', 'get_duration', 'get_elevation_extremes', 'get_location_at', 'get_moving_data', 'get_nearest_location', 'get_points_no', 'get_time_bounds', 'get_uphill_downhill', 'gpx_10_fields', 'gpx_11_fields', 'has_elevations', 'has_times', 'join', 'length_2d', 'length_3d', 'link', 'link_text', 'link_type', 'move', 'name', 'number', 'reduce_points', 'remove_elevation', 'remove_empty', 'remove_time', 'segments', 'simplify', 'smooth', 'source', 'split', 'type', 'walk']\n"
     ]
    }
   ],
   "source": [
    "print(\"All available methods for gpx objects: \\n\",dir(tracks_gpx['EuroVelo 1'][1]))"
   ]
  },
  {
   "cell_type": "code",
   "execution_count": 6,
   "metadata": {
    "pycharm": {
     "name": "#%%\n"
    }
   },
   "outputs": [
    {
     "data": {
      "text/plain": [
       "'01: Athlone – Kinnegad (Developed)'"
      ]
     },
     "execution_count": 6,
     "metadata": {},
     "output_type": "execute_result"
    }
   ],
   "source": [
    "x = tracks['EuroVelo 2'].groupby(['stage']).mean()\n",
    "x.index[0]"
   ]
  },
  {
   "cell_type": "markdown",
   "metadata": {
    "pycharm": {
     "name": "#%% md\n"
    }
   },
   "source": [
    "## Step 2： Calculation of distances, uphill and downhill\n",
    "length_3d method can help me calculation a distance between two points, uphill_downhill method can help me know how long the total uphill_downhill is."
   ]
  },
  {
   "cell_type": "code",
   "execution_count": 7,
   "metadata": {},
   "outputs": [],
   "source": [
    "statistic2 = {}\n",
    "for rname in route_name:\n",
    "    distance = []\n",
    "    up_down = []\n",
    "    uphill = []\n",
    "    downhill = []\n",
    "    name = []\n",
    "    for index in range(1,len(tracks_gpx[rname])+1):\n",
    "        distance.append(tracks_gpx[rname][index].length_3d()/1000)\n",
    "        ud = tracks_gpx[rname][index].get_uphill_downhill()\n",
    "        uphill.append(ud[0])\n",
    "        downhill.append(ud[1])\n",
    "        up_down.append(ud[0] + ud[1])\n",
    "        name.append(tracks_gpx[rname][index].name)\n",
    "    statistic2[rname] = pd.DataFrame({\n",
    "        'name':name,\n",
    "        'length_3d(km)' : distance,\n",
    "        'uphill': uphill,\n",
    "        'downhill':downhill,\n",
    "        'uphill_downhill' : up_down,\n",
    "    })"
   ]
  },
  {
   "cell_type": "code",
   "execution_count": 8,
   "metadata": {},
   "outputs": [
    {
     "data": {
      "text/html": [
       "<div>\n",
       "<style scoped>\n",
       "    .dataframe tbody tr th:only-of-type {\n",
       "        vertical-align: middle;\n",
       "    }\n",
       "\n",
       "    .dataframe tbody tr th {\n",
       "        vertical-align: top;\n",
       "    }\n",
       "\n",
       "    .dataframe thead th {\n",
       "        text-align: right;\n",
       "    }\n",
       "</style>\n",
       "<table border=\"1\" class=\"dataframe\">\n",
       "  <thead>\n",
       "    <tr style=\"text-align: right;\">\n",
       "      <th></th>\n",
       "      <th>name</th>\n",
       "      <th>length_3d(km)</th>\n",
       "      <th>uphill</th>\n",
       "      <th>downhill</th>\n",
       "      <th>uphill_downhill</th>\n",
       "    </tr>\n",
       "  </thead>\n",
       "  <tbody>\n",
       "    <tr>\n",
       "      <th>0</th>\n",
       "      <td>01: Le Pellerin – Saint-Brevin-les-Pins (Devel...</td>\n",
       "      <td>36.223854</td>\n",
       "      <td>17.210000</td>\n",
       "      <td>17.410000</td>\n",
       "      <td>34.620000</td>\n",
       "    </tr>\n",
       "    <tr>\n",
       "      <th>1</th>\n",
       "      <td>02: Nantes – Le Pellerin (Developed with signs)</td>\n",
       "      <td>23.220107</td>\n",
       "      <td>63.980000</td>\n",
       "      <td>64.780000</td>\n",
       "      <td>128.760000</td>\n",
       "    </tr>\n",
       "    <tr>\n",
       "      <th>2</th>\n",
       "      <td>03: Morlaix Train Station – Saint-Florent-le-V...</td>\n",
       "      <td>51.968061</td>\n",
       "      <td>28.830000</td>\n",
       "      <td>23.030000</td>\n",
       "      <td>51.860000</td>\n",
       "    </tr>\n",
       "    <tr>\n",
       "      <th>3</th>\n",
       "      <td>04: Saint-Florent-le-Vieil – Angers (Developed...</td>\n",
       "      <td>50.932534</td>\n",
       "      <td>104.580000</td>\n",
       "      <td>70.980000</td>\n",
       "      <td>175.560000</td>\n",
       "    </tr>\n",
       "    <tr>\n",
       "      <th>4</th>\n",
       "      <td>05: Angers – Saumur (Developed with signs)</td>\n",
       "      <td>56.601784</td>\n",
       "      <td>105.330000</td>\n",
       "      <td>122.730000</td>\n",
       "      <td>228.060000</td>\n",
       "    </tr>\n",
       "    <tr>\n",
       "      <th>...</th>\n",
       "      <td>...</td>\n",
       "      <td>...</td>\n",
       "      <td>...</td>\n",
       "      <td>...</td>\n",
       "      <td>...</td>\n",
       "    </tr>\n",
       "    <tr>\n",
       "      <th>88</th>\n",
       "      <td>89: Kovin – Bela Crvka (Developed with signs)</td>\n",
       "      <td>56.289040</td>\n",
       "      <td>43.000000</td>\n",
       "      <td>24.000000</td>\n",
       "      <td>67.000000</td>\n",
       "    </tr>\n",
       "    <tr>\n",
       "      <th>89</th>\n",
       "      <td>90: Bela Crvka – Brnjica (Developed with signs)</td>\n",
       "      <td>48.620940</td>\n",
       "      <td>42.100000</td>\n",
       "      <td>67.200000</td>\n",
       "      <td>109.300000</td>\n",
       "    </tr>\n",
       "    <tr>\n",
       "      <th>90</th>\n",
       "      <td>91: Brnjica – Doni Milanovac (Developed with s...</td>\n",
       "      <td>43.841593</td>\n",
       "      <td>167.282994</td>\n",
       "      <td>176.052990</td>\n",
       "      <td>343.335985</td>\n",
       "    </tr>\n",
       "    <tr>\n",
       "      <th>91</th>\n",
       "      <td>92: Doni Milanovac – Kladovo (Developed with s...</td>\n",
       "      <td>62.199485</td>\n",
       "      <td>197.152008</td>\n",
       "      <td>233.602005</td>\n",
       "      <td>430.754013</td>\n",
       "    </tr>\n",
       "    <tr>\n",
       "      <th>92</th>\n",
       "      <td>93: Kladovo – Mokranje (Developed with signs)</td>\n",
       "      <td>86.466064</td>\n",
       "      <td>215.020000</td>\n",
       "      <td>189.920000</td>\n",
       "      <td>404.940000</td>\n",
       "    </tr>\n",
       "  </tbody>\n",
       "</table>\n",
       "<p>93 rows × 5 columns</p>\n",
       "</div>"
      ],
      "text/plain": [
       "                                                 name  length_3d(km)  \\\n",
       "0   01: Le Pellerin – Saint-Brevin-les-Pins (Devel...      36.223854   \n",
       "1     02: Nantes – Le Pellerin (Developed with signs)      23.220107   \n",
       "2   03: Morlaix Train Station – Saint-Florent-le-V...      51.968061   \n",
       "3   04: Saint-Florent-le-Vieil – Angers (Developed...      50.932534   \n",
       "4          05: Angers – Saumur (Developed with signs)      56.601784   \n",
       "..                                                ...            ...   \n",
       "88      89: Kovin – Bela Crvka (Developed with signs)      56.289040   \n",
       "89    90: Bela Crvka – Brnjica (Developed with signs)      48.620940   \n",
       "90  91: Brnjica – Doni Milanovac (Developed with s...      43.841593   \n",
       "91  92: Doni Milanovac – Kladovo (Developed with s...      62.199485   \n",
       "92      93: Kladovo – Mokranje (Developed with signs)      86.466064   \n",
       "\n",
       "        uphill    downhill  uphill_downhill  \n",
       "0    17.210000   17.410000        34.620000  \n",
       "1    63.980000   64.780000       128.760000  \n",
       "2    28.830000   23.030000        51.860000  \n",
       "3   104.580000   70.980000       175.560000  \n",
       "4   105.330000  122.730000       228.060000  \n",
       "..         ...         ...              ...  \n",
       "88   43.000000   24.000000        67.000000  \n",
       "89   42.100000   67.200000       109.300000  \n",
       "90  167.282994  176.052990       343.335985  \n",
       "91  197.152008  233.602005       430.754013  \n",
       "92  215.020000  189.920000       404.940000  \n",
       "\n",
       "[93 rows x 5 columns]"
      ]
     },
     "execution_count": 8,
     "metadata": {},
     "output_type": "execute_result"
    }
   ],
   "source": [
    "statistic2['EuroVelo 6']"
   ]
  },
  {
   "cell_type": "markdown",
   "metadata": {
    "pycharm": {
     "name": "#%% md\n"
    }
   },
   "source": [
    "## Step 3\n",
    "Write functions to find the longest and hilliest stages in a given route."
   ]
  },
  {
   "cell_type": "code",
   "execution_count": 9,
   "metadata": {
    "pycharm": {
     "name": "#%%\n"
    }
   },
   "outputs": [],
   "source": [
    "def max_stage(rname,rtype):\n",
    "    index = statistic2[rname][rtype].idxmax()\n",
    "    stage = statistic2[rname][rtype].max()\n",
    "    return {statistic2[rname].iloc[index]['name']:stage}"
   ]
  },
  {
   "cell_type": "markdown",
   "metadata": {
    "pycharm": {
     "name": "#%% md\n"
    }
   },
   "source": [
    "1.What is the longest stage in EuroVelo 6?"
   ]
  },
  {
   "cell_type": "code",
   "execution_count": 10,
   "metadata": {
    "pycharm": {
     "name": "#%%\n"
    }
   },
   "outputs": [
    {
     "data": {
      "text/plain": [
       "{'37: Tuttlingen – Ulm (Developed with signs)': 152.99088706845694}"
      ]
     },
     "execution_count": 10,
     "metadata": {},
     "output_type": "execute_result"
    }
   ],
   "source": [
    "max_stage('EuroVelo 6','length_3d(km)')"
   ]
  },
  {
   "cell_type": "markdown",
   "metadata": {
    "pycharm": {
     "name": "#%% md\n"
    }
   },
   "source": [
    "2.What is the stage in EuroVelo 1 with the most uphill?"
   ]
  },
  {
   "cell_type": "code",
   "execution_count": 11,
   "metadata": {
    "pycharm": {
     "name": "#%%\n"
    }
   },
   "outputs": [
    {
     "data": {
      "text/plain": [
       "{'025: Kilboghavn – Nesna (Developed)': 1026.1000000000001}"
      ]
     },
     "execution_count": 11,
     "metadata": {},
     "output_type": "execute_result"
    }
   ],
   "source": [
    "max_stage('EuroVelo 1','uphill')"
   ]
  },
  {
   "cell_type": "markdown",
   "metadata": {
    "pycharm": {
     "name": "#%% md\n"
    }
   },
   "source": [
    "## Step 4\n",
    "A typical requirement in exploring the EuroVelo data would be to find a sequence of flat stages for a short holiday. Write a function to meet this requirement."
   ]
  },
  {
   "cell_type": "markdown",
   "metadata": {
    "pycharm": {
     "name": "#%% md\n"
    }
   },
   "source": [
    "#### Write a function to calculate the three flattest successive phases"
   ]
  },
  {
   "cell_type": "code",
   "execution_count": 12,
   "metadata": {
    "pycharm": {
     "name": "#%%\n"
    }
   },
   "outputs": [],
   "source": [
    "def three_flattest(rname):\n",
    "    stages = statistic2[rname]\n",
    "    slopes = []\n",
    "    index = []\n",
    "    for i in range(stages.shape[0]):\n",
    "        slope = 0\n",
    "        for j in range(3):\n",
    "            if(i+j > stages.shape[0]-1):\n",
    "                break\n",
    "            stage = stages.iloc[i+j]\n",
    "            slope += stage['uphill'] + stage['downhill']\n",
    "        index.append(str(i+1)+'-'+str(i+1+j))\n",
    "        slopes.append(slope)\n",
    "    flat_slopes = pd.DataFrame({\n",
    "        \"index\":index,\n",
    "        \"slopes\":slopes,\n",
    "    })\n",
    "     #As I needed three consecutive segments, I removed the last one with only two stages of data\n",
    "    flat_slopes = flat_slopes.drop(stages.shape[0]-1)\n",
    "#     print(flat_slopes)\n",
    "    index = flat_slopes[\"slopes\"].idxmin()\n",
    "    flat = flat_slopes[\"slopes\"].min()\n",
    "    return {\"stage \"+flat_slopes.iloc[index]['index']:flat}"
   ]
  },
  {
   "cell_type": "markdown",
   "metadata": {
    "pycharm": {
     "name": "#%% md\n"
    }
   },
   "source": [
    "1.\tWhat are the three flattest contiguous stages in EuroVelo 2?"
   ]
  },
  {
   "cell_type": "code",
   "execution_count": 13,
   "metadata": {
    "pycharm": {
     "name": "#%%\n"
    }
   },
   "outputs": [
    {
     "data": {
      "text/plain": [
       "{'stage 1-3': 214.38000000000005}"
      ]
     },
     "execution_count": 13,
     "metadata": {},
     "output_type": "execute_result"
    }
   ],
   "source": [
    "three_flattest('EuroVelo 2')"
   ]
  },
  {
   "cell_type": "markdown",
   "metadata": {
    "pycharm": {
     "name": "#%% md\n"
    }
   },
   "source": [
    "#### Define a function to find the five steepest (uphillest) consecutive stages"
   ]
  },
  {
   "cell_type": "code",
   "execution_count": 14,
   "metadata": {
    "pycharm": {
     "name": "#%%\n"
    }
   },
   "outputs": [],
   "source": [
    "def five_hilliest(rname):\n",
    "    stages = statistic2[rname]\n",
    "    slopes = []\n",
    "    index = []\n",
    "    for i in range(stages.shape[0]):\n",
    "        slope = 0\n",
    "        for j in range(5):\n",
    "            if(i+j > stages.shape[0]-1):\n",
    "                break\n",
    "            stage = stages.iloc[i+j]\n",
    "            slope += stage['uphill']\n",
    "        index.append(str(i+1)+'-'+str(i+1+j))\n",
    "        slopes.append(slope)\n",
    "    hill_slopes = pd.DataFrame({\n",
    "        \"index\":index,\n",
    "        \"slopes\":slopes,\n",
    "    })\n",
    "    index = hill_slopes[\"slopes\"].idxmax()\n",
    "    hilliest = hill_slopes[\"slopes\"].max()\n",
    "    return {\"stage \"+hill_slopes.iloc[index]['index']:hilliest}"
   ]
  },
  {
   "cell_type": "markdown",
   "metadata": {
    "pycharm": {
     "name": "#%% md\n"
    }
   },
   "source": [
    "2.\tFind the five hilliest (most uphill) contiguous stages in EuroVelo 1."
   ]
  },
  {
   "cell_type": "code",
   "execution_count": 15,
   "metadata": {
    "pycharm": {
     "name": "#%%\n"
    }
   },
   "outputs": [
    {
     "data": {
      "text/plain": [
       "{'stage 95-99': 2100.04}"
      ]
     },
     "execution_count": 15,
     "metadata": {},
     "output_type": "execute_result"
    }
   ],
   "source": [
    "five_hilliest('EuroVelo 1')"
   ]
  },
  {
   "cell_type": "markdown",
   "metadata": {
    "pycharm": {
     "name": "#%% md\n"
    }
   },
   "source": [
    "# Task 3 ：Test the accuracy of the distance estimates\n",
    "API : MapBox https://www.mapbox.com "
   ]
  },
  {
   "cell_type": "code",
   "execution_count": 16,
   "metadata": {},
   "outputs": [],
   "source": [
    "#Store all data\n",
    "def store_stage(rname):\n",
    "    stage = {}\n",
    "    index = 0\n",
    "    group_num = len(tracks[rname].groupby(tracks[rname].name).size())\n",
    "    stage[0] = tracks[rname].groupby(tracks[rname].name)\n",
    "    for i in range(1,group_num+1):\n",
    "        #each stage\n",
    "        stage[i] = stage[0].get_group(i).apply(pd.to_numeric,errors='ignore')\n",
    "    return stage"
   ]
  },
  {
   "cell_type": "code",
   "execution_count": 17,
   "metadata": {},
   "outputs": [],
   "source": [
    "routes = {}\n",
    "for rname in route_name:\n",
    "    routes[rname] = store_stage(rname)"
   ]
  },
  {
   "cell_type": "code",
   "execution_count": 18,
   "metadata": {},
   "outputs": [
    {
     "data": {
      "text/html": [
       "<div>\n",
       "<style scoped>\n",
       "    .dataframe tbody tr th:only-of-type {\n",
       "        vertical-align: middle;\n",
       "    }\n",
       "\n",
       "    .dataframe tbody tr th {\n",
       "        vertical-align: top;\n",
       "    }\n",
       "\n",
       "    .dataframe thead th {\n",
       "        text-align: right;\n",
       "    }\n",
       "</style>\n",
       "<table border=\"1\" class=\"dataframe\">\n",
       "  <thead>\n",
       "    <tr style=\"text-align: right;\">\n",
       "      <th></th>\n",
       "      <th>name</th>\n",
       "      <th>latitude</th>\n",
       "      <th>longitude</th>\n",
       "      <th>elevation</th>\n",
       "      <th>stage</th>\n",
       "    </tr>\n",
       "  </thead>\n",
       "  <tbody>\n",
       "    <tr>\n",
       "      <th>0</th>\n",
       "      <td>1</td>\n",
       "      <td>71.168038</td>\n",
       "      <td>25.781339</td>\n",
       "      <td>300.5</td>\n",
       "      <td>001: Nordkapp – Honningsvag (Developed)</td>\n",
       "    </tr>\n",
       "    <tr>\n",
       "      <th>1</th>\n",
       "      <td>1</td>\n",
       "      <td>71.151689</td>\n",
       "      <td>25.775567</td>\n",
       "      <td>281.2</td>\n",
       "      <td>001: Nordkapp – Honningsvag (Developed)</td>\n",
       "    </tr>\n",
       "    <tr>\n",
       "      <th>2</th>\n",
       "      <td>1</td>\n",
       "      <td>71.141968</td>\n",
       "      <td>25.760095</td>\n",
       "      <td>221.8</td>\n",
       "      <td>001: Nordkapp – Honningsvag (Developed)</td>\n",
       "    </tr>\n",
       "    <tr>\n",
       "      <th>3</th>\n",
       "      <td>1</td>\n",
       "      <td>71.138111</td>\n",
       "      <td>25.741571</td>\n",
       "      <td>263.0</td>\n",
       "      <td>001: Nordkapp – Honningsvag (Developed)</td>\n",
       "    </tr>\n",
       "    <tr>\n",
       "      <th>4</th>\n",
       "      <td>1</td>\n",
       "      <td>71.120734</td>\n",
       "      <td>25.707276</td>\n",
       "      <td>306.7</td>\n",
       "      <td>001: Nordkapp – Honningsvag (Developed)</td>\n",
       "    </tr>\n",
       "  </tbody>\n",
       "</table>\n",
       "</div>"
      ],
      "text/plain": [
       "   name   latitude  longitude  elevation  \\\n",
       "0     1  71.168038  25.781339      300.5   \n",
       "1     1  71.151689  25.775567      281.2   \n",
       "2     1  71.141968  25.760095      221.8   \n",
       "3     1  71.138111  25.741571      263.0   \n",
       "4     1  71.120734  25.707276      306.7   \n",
       "\n",
       "                                     stage  \n",
       "0  001: Nordkapp – Honningsvag (Developed)  \n",
       "1  001: Nordkapp – Honningsvag (Developed)  \n",
       "2  001: Nordkapp – Honningsvag (Developed)  \n",
       "3  001: Nordkapp – Honningsvag (Developed)  \n",
       "4  001: Nordkapp – Honningsvag (Developed)  "
      ]
     },
     "execution_count": 18,
     "metadata": {},
     "output_type": "execute_result"
    }
   ],
   "source": [
    "routes['EuroVelo 1'][1].head()"
   ]
  },
  {
   "cell_type": "markdown",
   "metadata": {},
   "source": [
    "where I find the url: https://docs.mapbox.com/api/navigation/matrix/"
   ]
  },
  {
   "cell_type": "code",
   "execution_count": 19,
   "metadata": {
    "pycharm": {
     "name": "#%%\n"
    }
   },
   "outputs": [],
   "source": [
    "url1 = \"https://api.mapbox.com/directions-matrix/v1/mapbox/cycling/\"\n",
    "url2 = \"?sources=0&annotations=distance,duration&access_token=pk.eyJ1Ijoic2h1b3NodW8yIiwiYSI6ImNsYXNkaDF3czA0ODgzcXF4NDUxbXVqdHAifQ.iLp-z7ZrLYNT-3w-gxnVwA\""
   ]
  },
  {
   "cell_type": "code",
   "execution_count": 20,
   "metadata": {
    "pycharm": {
     "name": "#%%\n"
    }
   },
   "outputs": [],
   "source": [
    "#Define the distance calculation function\n",
    "def caculate_distance(a,b):\n",
    "#     try:\n",
    "    url = url1 + str(a['longitude'])+','+str(a['latitude'])+';'+str(b['longitude'])+','+str(b['latitude'])+url2\n",
    "    response = requests.get(url)\n",
    "    page = response.json()\n",
    "    while 'distances' not in page:\n",
    "        print(\"diserr\")\n",
    "        time.sleep(3)\n",
    "        response = requests.get(url)\n",
    "        page = response.json()\n",
    "    dist = page['distances'][0][1]\n",
    "    return dist"
   ]
  },
  {
   "cell_type": "code",
   "execution_count": 21,
   "metadata": {},
   "outputs": [],
   "source": [
    "#Defines the calculation of the total distance of all stages of a route\n",
    "def dis_list(i):\n",
    "    dist = {}\n",
    "    stage = {}\n",
    "    index = 0\n",
    "    group_num = len(tracks[i].groupby(tracks[i].name).size())\n",
    "    stage[0] = tracks[i].groupby(tracks[i].name)\n",
    "    for i in range(1,group_num+1):\n",
    "        stage[i] = stage[0].get_group(i).apply(pd.to_numeric,errors='ignore')\n",
    "        dist[i] = 0\n",
    "        m = 0\n",
    "        for j in range(index,index + len(stage[i])-1):\n",
    "            m += 1\n",
    "            a = stage[i].loc[j]\n",
    "            b = stage[i].loc[j+1]\n",
    "            caculate = caculate_distance(a,b)\n",
    "            while caculate == None:\n",
    "                time.sleep(3)\n",
    "                print(\"None\")\n",
    "                caculate = caculate_distance(a,b)\n",
    "            dist[i] += caculate\n",
    "        print(\"stage_number = \",i)\n",
    "        index = j + 2\n",
    "    return dist"
   ]
  },
  {
   "cell_type": "code",
   "execution_count": 22,
   "metadata": {},
   "outputs": [
    {
     "name": "stdout",
     "output_type": "stream",
     "text": [
      "--- route name: EuroVelo 14\n",
      "stage_number =  1\n",
      "diserr\n",
      "diserr\n",
      "diserr\n",
      "diserr\n",
      "diserr\n",
      "diserr\n",
      "diserr\n",
      "diserr\n",
      "diserr\n",
      "diserr\n",
      "diserr\n",
      "diserr\n",
      "diserr\n",
      "diserr\n",
      "diserr\n",
      "diserr\n",
      "diserr\n",
      "diserr\n",
      "diserr\n",
      "diserr\n",
      "diserr\n",
      "diserr\n",
      "stage_number =  2\n",
      "diserr\n",
      "diserr\n",
      "diserr\n",
      "diserr\n",
      "diserr\n",
      "diserr\n",
      "diserr\n",
      "diserr\n",
      "diserr\n",
      "diserr\n",
      "diserr\n",
      "diserr\n",
      "diserr\n",
      "diserr\n",
      "diserr\n",
      "diserr\n",
      "diserr\n",
      "diserr\n",
      "diserr\n",
      "diserr\n",
      "diserr\n",
      "diserr\n",
      "diserr\n",
      "diserr\n",
      "diserr\n",
      "diserr\n",
      "diserr\n",
      "diserr\n",
      "diserr\n",
      "diserr\n",
      "diserr\n",
      "diserr\n",
      "diserr\n",
      "diserr\n",
      "diserr\n",
      "diserr\n",
      "diserr\n",
      "diserr\n",
      "diserr\n",
      "diserr\n",
      "diserr\n",
      "stage_number =  3\n",
      "diserr\n",
      "diserr\n",
      "diserr\n",
      "diserr\n",
      "diserr\n",
      "diserr\n",
      "diserr\n",
      "diserr\n",
      "diserr\n",
      "diserr\n",
      "diserr\n",
      "diserr\n",
      "diserr\n",
      "diserr\n",
      "diserr\n",
      "diserr\n",
      "diserr\n",
      "diserr\n",
      "diserr\n",
      "diserr\n",
      "diserr\n",
      "diserr\n",
      "diserr\n",
      "diserr\n",
      "diserr\n",
      "diserr\n",
      "diserr\n",
      "diserr\n",
      "diserr\n",
      "diserr\n",
      "stage_number =  4\n",
      "diserr\n",
      "diserr\n",
      "diserr\n",
      "diserr\n",
      "diserr\n",
      "diserr\n",
      "diserr\n",
      "diserr\n",
      "diserr\n",
      "diserr\n",
      "diserr\n",
      "diserr\n",
      "diserr\n",
      "diserr\n",
      "stage_number =  5\n",
      "diserr\n",
      "diserr\n",
      "diserr\n",
      "diserr\n",
      "diserr\n",
      "diserr\n",
      "diserr\n",
      "diserr\n",
      "diserr\n",
      "diserr\n",
      "diserr\n",
      "diserr\n",
      "diserr\n",
      "diserr\n",
      "diserr\n",
      "stage_number =  6\n",
      "diserr\n",
      "diserr\n",
      "diserr\n",
      "diserr\n",
      "diserr\n",
      "diserr\n",
      "diserr\n",
      "diserr\n",
      "diserr\n",
      "diserr\n",
      "diserr\n",
      "diserr\n",
      "diserr\n",
      "diserr\n",
      "stage_number =  7\n",
      "diserr\n",
      "diserr\n",
      "diserr\n",
      "diserr\n",
      "diserr\n",
      "diserr\n",
      "diserr\n",
      "diserr\n",
      "diserr\n",
      "diserr\n",
      "diserr\n",
      "diserr\n",
      "diserr\n",
      "diserr\n",
      "diserr\n",
      "stage_number =  8\n",
      "--- route name: EuroVelo 19\n",
      "stage_number =  1\n",
      "stage_number =  2\n",
      "diserr\n",
      "diserr\n",
      "diserr\n",
      "diserr\n",
      "diserr\n",
      "diserr\n",
      "diserr\n",
      "diserr\n",
      "diserr\n",
      "diserr\n",
      "diserr\n",
      "diserr\n",
      "diserr\n",
      "diserr\n",
      "stage_number =  3\n",
      "diserr\n",
      "stage_number =  4\n",
      "diserr\n",
      "diserr\n",
      "diserr\n",
      "diserr\n",
      "diserr\n",
      "diserr\n",
      "diserr\n",
      "diserr\n",
      "diserr\n",
      "diserr\n",
      "diserr\n",
      "diserr\n",
      "diserr\n",
      "stage_number =  5\n",
      "diserr\n",
      "diserr\n",
      "diserr\n",
      "diserr\n",
      "diserr\n",
      "diserr\n",
      "diserr\n",
      "diserr\n",
      "diserr\n",
      "diserr\n",
      "diserr\n",
      "diserr\n",
      "diserr\n",
      "diserr\n",
      "diserr\n",
      "stage_number =  6\n",
      "stage_number =  7\n",
      "stage_number =  8\n",
      "diserr\n",
      "diserr\n",
      "diserr\n",
      "diserr\n",
      "diserr\n",
      "diserr\n",
      "diserr\n",
      "diserr\n",
      "diserr\n",
      "diserr\n",
      "diserr\n",
      "diserr\n",
      "diserr\n",
      "diserr\n",
      "diserr\n",
      "stage_number =  9\n",
      "stage_number =  10\n",
      "diserr\n",
      "diserr\n",
      "diserr\n",
      "diserr\n",
      "diserr\n",
      "diserr\n",
      "diserr\n",
      "diserr\n",
      "diserr\n",
      "diserr\n",
      "diserr\n",
      "diserr\n",
      "diserr\n",
      "diserr\n",
      "diserr\n",
      "stage_number =  11\n",
      "stage_number =  12\n",
      "diserr\n",
      "diserr\n",
      "diserr\n",
      "diserr\n",
      "diserr\n",
      "diserr\n",
      "diserr\n",
      "diserr\n",
      "diserr\n",
      "diserr\n",
      "diserr\n",
      "diserr\n",
      "diserr\n",
      "diserr\n",
      "diserr\n",
      "stage_number =  13\n",
      "stage_number =  14\n",
      "diserr\n",
      "diserr\n",
      "diserr\n",
      "diserr\n",
      "diserr\n",
      "diserr\n",
      "diserr\n",
      "diserr\n",
      "diserr\n",
      "diserr\n",
      "diserr\n",
      "diserr\n",
      "diserr\n",
      "diserr\n",
      "stage_number =  15\n",
      "stage_number =  16\n",
      "diserr\n",
      "diserr\n",
      "diserr\n",
      "diserr\n",
      "diserr\n",
      "diserr\n",
      "diserr\n",
      "diserr\n",
      "diserr\n",
      "diserr\n",
      "diserr\n",
      "diserr\n",
      "diserr\n",
      "diserr\n",
      "diserr\n",
      "stage_number =  17\n",
      "stage_number =  18\n",
      "diserr\n",
      "diserr\n",
      "diserr\n",
      "diserr\n",
      "diserr\n",
      "diserr\n",
      "diserr\n",
      "diserr\n",
      "diserr\n",
      "diserr\n",
      "diserr\n",
      "diserr\n",
      "diserr\n",
      "diserr\n",
      "stage_number =  19\n",
      "stage_number =  20\n",
      "diserr\n",
      "diserr\n",
      "diserr\n",
      "diserr\n",
      "diserr\n",
      "diserr\n",
      "diserr\n",
      "diserr\n",
      "diserr\n",
      "diserr\n",
      "diserr\n",
      "diserr\n",
      "diserr\n",
      "diserr\n",
      "diserr\n",
      "stage_number =  21\n",
      "diserr\n",
      "diserr\n",
      "diserr\n",
      "diserr\n",
      "diserr\n",
      "diserr\n",
      "diserr\n",
      "diserr\n",
      "diserr\n",
      "diserr\n",
      "diserr\n",
      "diserr\n",
      "diserr\n",
      "diserr\n",
      "diserr\n",
      "stage_number =  22\n",
      "stage_number =  23\n",
      "diserr\n",
      "diserr\n",
      "diserr\n",
      "diserr\n",
      "diserr\n",
      "diserr\n",
      "diserr\n",
      "diserr\n",
      "diserr\n",
      "diserr\n",
      "diserr\n",
      "diserr\n",
      "diserr\n",
      "diserr\n",
      "diserr\n",
      "stage_number =  24\n",
      "stage_number =  25\n",
      "diserr\n",
      "diserr\n",
      "diserr\n",
      "diserr\n",
      "diserr\n",
      "diserr\n",
      "diserr\n",
      "diserr\n",
      "diserr\n",
      "diserr\n",
      "diserr\n",
      "diserr\n",
      "diserr\n",
      "diserr\n",
      "diserr\n",
      "stage_number =  26\n",
      "stage_number =  27\n",
      "diserr\n",
      "diserr\n",
      "diserr\n",
      "diserr\n",
      "diserr\n",
      "diserr\n",
      "diserr\n",
      "diserr\n",
      "diserr\n",
      "diserr\n",
      "diserr\n",
      "diserr\n",
      "diserr\n",
      "diserr\n",
      "stage_number =  28\n",
      "stage_number =  29\n",
      "diserr\n",
      "diserr\n",
      "diserr\n",
      "diserr\n",
      "diserr\n",
      "diserr\n",
      "diserr\n",
      "diserr\n",
      "diserr\n",
      "diserr\n",
      "diserr\n",
      "diserr\n",
      "diserr\n",
      "diserr\n",
      "diserr\n",
      "stage_number =  30\n",
      "diserr\n",
      "diserr\n",
      "diserr\n",
      "diserr\n",
      "diserr\n",
      "diserr\n",
      "diserr\n",
      "diserr\n",
      "diserr\n",
      "diserr\n",
      "diserr\n",
      "diserr\n",
      "diserr\n",
      "diserr\n",
      "diserr\n",
      "stage_number =  31\n",
      "stage_number =  32\n",
      "stage_number =  33\n",
      "diserr\n",
      "diserr\n",
      "diserr\n",
      "diserr\n",
      "diserr\n",
      "diserr\n",
      "diserr\n",
      "diserr\n",
      "diserr\n",
      "diserr\n",
      "diserr\n",
      "diserr\n",
      "diserr\n",
      "diserr\n",
      "stage_number =  34\n",
      "diserr\n",
      "diserr\n",
      "diserr\n",
      "diserr\n",
      "diserr\n",
      "diserr\n",
      "diserr\n",
      "diserr\n",
      "diserr\n",
      "diserr\n",
      "diserr\n",
      "diserr\n",
      "diserr\n",
      "diserr\n",
      "stage_number =  35\n",
      "diserr\n",
      "diserr\n",
      "diserr\n",
      "diserr\n",
      "diserr\n",
      "diserr\n",
      "diserr\n",
      "diserr\n",
      "diserr\n",
      "diserr\n",
      "diserr\n",
      "diserr\n",
      "diserr\n",
      "diserr\n",
      "diserr\n",
      "stage_number =  36\n",
      "stage_number =  37\n"
     ]
    }
   ],
   "source": [
    "#Because the calculation is too slow, only the data for routes 14 and 19 will now be calculated\n",
    "ev_dist = {}\n",
    "for rname in ['EuroVelo 14','EuroVelo 19']:\n",
    "    print(\"--- route name:\",rname)\n",
    "    ev_dist[rname] = dis_list(rname)"
   ]
  },
  {
   "cell_type": "markdown",
   "metadata": {},
   "source": [
    "### Analyse an estimate of the error (underestimate) in the gpxpy track"
   ]
  },
  {
   "cell_type": "code",
   "execution_count": 23,
   "metadata": {},
   "outputs": [],
   "source": [
    "for rname in ['EuroVelo 14','EuroVelo 19']:\n",
    "    cyc_dist = []\n",
    "    for index in range(1,len(ev_dist[rname])+1):\n",
    "        cyc_dist.append(ev_dist[rname][index]/1000)\n",
    "    statistic2[rname]['cycling_distance'] = cyc_dist\n",
    "    statistic2[rname]['underestimate'] = statistic2[rname]['cycling_distance'] - statistic2[rname]['length_3d(km)']"
   ]
  },
  {
   "cell_type": "markdown",
   "metadata": {},
   "source": [
    "In the data below, \"length_3d(km)\" represents the distance obtained using the length_3d method, \"cycling_distance\" represents the distance obtained using the MapBox API, and \" underestimate\" is the difference between the two distances, and the distance is in km"
   ]
  },
  {
   "cell_type": "code",
   "execution_count": 24,
   "metadata": {},
   "outputs": [
    {
     "data": {
      "text/html": [
       "<div>\n",
       "<style scoped>\n",
       "    .dataframe tbody tr th:only-of-type {\n",
       "        vertical-align: middle;\n",
       "    }\n",
       "\n",
       "    .dataframe tbody tr th {\n",
       "        vertical-align: top;\n",
       "    }\n",
       "\n",
       "    .dataframe thead th {\n",
       "        text-align: right;\n",
       "    }\n",
       "</style>\n",
       "<table border=\"1\" class=\"dataframe\">\n",
       "  <thead>\n",
       "    <tr style=\"text-align: right;\">\n",
       "      <th></th>\n",
       "      <th>name</th>\n",
       "      <th>length_3d(km)</th>\n",
       "      <th>uphill</th>\n",
       "      <th>downhill</th>\n",
       "      <th>uphill_downhill</th>\n",
       "      <th>cycling_distance</th>\n",
       "      <th>underestimate</th>\n",
       "    </tr>\n",
       "  </thead>\n",
       "  <tbody>\n",
       "    <tr>\n",
       "      <th>0</th>\n",
       "      <td>1: Zell Am See – St Johann im Pongau (Develope...</td>\n",
       "      <td>40.425506</td>\n",
       "      <td>140.65</td>\n",
       "      <td>326.95</td>\n",
       "      <td>467.60</td>\n",
       "      <td>52.6231</td>\n",
       "      <td>12.197594</td>\n",
       "    </tr>\n",
       "    <tr>\n",
       "      <th>1</th>\n",
       "      <td>2: St Johann im Pongau – Liezen (Developed wit...</td>\n",
       "      <td>112.872059</td>\n",
       "      <td>413.70</td>\n",
       "      <td>344.30</td>\n",
       "      <td>758.00</td>\n",
       "      <td>121.6333</td>\n",
       "      <td>8.761241</td>\n",
       "    </tr>\n",
       "    <tr>\n",
       "      <th>2</th>\n",
       "      <td>3: Liezen – World Heritage Graz (Developed wit...</td>\n",
       "      <td>162.597112</td>\n",
       "      <td>433.20</td>\n",
       "      <td>722.40</td>\n",
       "      <td>1155.60</td>\n",
       "      <td>173.3753</td>\n",
       "      <td>10.778188</td>\n",
       "    </tr>\n",
       "    <tr>\n",
       "      <th>3</th>\n",
       "      <td>4: World Heritage Graz – Szentgotthard (Develo...</td>\n",
       "      <td>101.202530</td>\n",
       "      <td>226.02</td>\n",
       "      <td>348.12</td>\n",
       "      <td>574.14</td>\n",
       "      <td>109.3848</td>\n",
       "      <td>8.182270</td>\n",
       "    </tr>\n",
       "    <tr>\n",
       "      <th>4</th>\n",
       "      <td>5: Szentgotthard – Vasvar (Developed with signs)</td>\n",
       "      <td>68.121948</td>\n",
       "      <td>206.22</td>\n",
       "      <td>227.22</td>\n",
       "      <td>433.44</td>\n",
       "      <td>70.7707</td>\n",
       "      <td>2.648752</td>\n",
       "    </tr>\n",
       "    <tr>\n",
       "      <th>5</th>\n",
       "      <td>6: Vasvar – Keszthely (Developed with signs)</td>\n",
       "      <td>65.575842</td>\n",
       "      <td>194.39</td>\n",
       "      <td>270.19</td>\n",
       "      <td>464.58</td>\n",
       "      <td>67.0626</td>\n",
       "      <td>1.486758</td>\n",
       "    </tr>\n",
       "    <tr>\n",
       "      <th>6</th>\n",
       "      <td>7: Keszthely – Balatonfuzfo (Developed with si...</td>\n",
       "      <td>91.289074</td>\n",
       "      <td>153.89</td>\n",
       "      <td>161.59</td>\n",
       "      <td>315.48</td>\n",
       "      <td>95.2383</td>\n",
       "      <td>3.949226</td>\n",
       "    </tr>\n",
       "    <tr>\n",
       "      <th>7</th>\n",
       "      <td>8: Balatonfuzfo – Velence (Developed with signs)</td>\n",
       "      <td>66.781224</td>\n",
       "      <td>163.16</td>\n",
       "      <td>170.26</td>\n",
       "      <td>333.42</td>\n",
       "      <td>68.7892</td>\n",
       "      <td>2.007976</td>\n",
       "    </tr>\n",
       "  </tbody>\n",
       "</table>\n",
       "</div>"
      ],
      "text/plain": [
       "                                                name  length_3d(km)  uphill  \\\n",
       "0  1: Zell Am See – St Johann im Pongau (Develope...      40.425506  140.65   \n",
       "1  2: St Johann im Pongau – Liezen (Developed wit...     112.872059  413.70   \n",
       "2  3: Liezen – World Heritage Graz (Developed wit...     162.597112  433.20   \n",
       "3  4: World Heritage Graz – Szentgotthard (Develo...     101.202530  226.02   \n",
       "4   5: Szentgotthard – Vasvar (Developed with signs)      68.121948  206.22   \n",
       "5       6: Vasvar – Keszthely (Developed with signs)      65.575842  194.39   \n",
       "6  7: Keszthely – Balatonfuzfo (Developed with si...      91.289074  153.89   \n",
       "7   8: Balatonfuzfo – Velence (Developed with signs)      66.781224  163.16   \n",
       "\n",
       "   downhill  uphill_downhill  cycling_distance  underestimate  \n",
       "0    326.95           467.60           52.6231      12.197594  \n",
       "1    344.30           758.00          121.6333       8.761241  \n",
       "2    722.40          1155.60          173.3753      10.778188  \n",
       "3    348.12           574.14          109.3848       8.182270  \n",
       "4    227.22           433.44           70.7707       2.648752  \n",
       "5    270.19           464.58           67.0626       1.486758  \n",
       "6    161.59           315.48           95.2383       3.949226  \n",
       "7    170.26           333.42           68.7892       2.007976  "
      ]
     },
     "execution_count": 24,
     "metadata": {},
     "output_type": "execute_result"
    }
   ],
   "source": [
    "statistic2['EuroVelo 14']"
   ]
  },
  {
   "cell_type": "code",
   "execution_count": 34,
   "metadata": {},
   "outputs": [
    {
     "data": {
      "text/html": [
       "<div>\n",
       "<style scoped>\n",
       "    .dataframe tbody tr th:only-of-type {\n",
       "        vertical-align: middle;\n",
       "    }\n",
       "\n",
       "    .dataframe tbody tr th {\n",
       "        vertical-align: top;\n",
       "    }\n",
       "\n",
       "    .dataframe thead th {\n",
       "        text-align: right;\n",
       "    }\n",
       "</style>\n",
       "<table border=\"1\" class=\"dataframe\">\n",
       "  <thead>\n",
       "    <tr style=\"text-align: right;\">\n",
       "      <th></th>\n",
       "      <th>name</th>\n",
       "      <th>length_3d(km)</th>\n",
       "      <th>uphill</th>\n",
       "      <th>downhill</th>\n",
       "      <th>uphill_downhill</th>\n",
       "      <th>cycling_distance</th>\n",
       "      <th>underestimate</th>\n",
       "    </tr>\n",
       "  </thead>\n",
       "  <tbody>\n",
       "    <tr>\n",
       "      <th>0</th>\n",
       "      <td>01: Langres – Pouilly-en-bassigny (Developed w...</td>\n",
       "      <td>32.963064</td>\n",
       "      <td>183.36</td>\n",
       "      <td>254.06</td>\n",
       "      <td>437.42</td>\n",
       "      <td>34.0506</td>\n",
       "      <td>1.087536</td>\n",
       "    </tr>\n",
       "    <tr>\n",
       "      <th>1</th>\n",
       "      <td>02: Pouilly-en-bassigny – Montigny-le-Roi (Dev...</td>\n",
       "      <td>10.209156</td>\n",
       "      <td>2.75</td>\n",
       "      <td>55.55</td>\n",
       "      <td>58.30</td>\n",
       "      <td>10.6126</td>\n",
       "      <td>0.403444</td>\n",
       "    </tr>\n",
       "    <tr>\n",
       "      <th>2</th>\n",
       "      <td>03: Montigny-le-Roi – Bourmont (Developed with...</td>\n",
       "      <td>27.222500</td>\n",
       "      <td>58.67</td>\n",
       "      <td>74.37</td>\n",
       "      <td>133.04</td>\n",
       "      <td>27.8323</td>\n",
       "      <td>0.609800</td>\n",
       "    </tr>\n",
       "    <tr>\n",
       "      <th>3</th>\n",
       "      <td>04: Bourmont – Neufchâteau (Developed with signs)</td>\n",
       "      <td>29.234196</td>\n",
       "      <td>170.42</td>\n",
       "      <td>209.62</td>\n",
       "      <td>380.04</td>\n",
       "      <td>30.2979</td>\n",
       "      <td>1.063704</td>\n",
       "    </tr>\n",
       "    <tr>\n",
       "      <th>4</th>\n",
       "      <td>05: Neufchâteau – Vaucouleurs (Developed with ...</td>\n",
       "      <td>39.127542</td>\n",
       "      <td>79.84</td>\n",
       "      <td>112.24</td>\n",
       "      <td>192.08</td>\n",
       "      <td>40.3949</td>\n",
       "      <td>1.267358</td>\n",
       "    </tr>\n",
       "  </tbody>\n",
       "</table>\n",
       "</div>"
      ],
      "text/plain": [
       "                                                name  length_3d(km)  uphill  \\\n",
       "0  01: Langres – Pouilly-en-bassigny (Developed w...      32.963064  183.36   \n",
       "1  02: Pouilly-en-bassigny – Montigny-le-Roi (Dev...      10.209156    2.75   \n",
       "2  03: Montigny-le-Roi – Bourmont (Developed with...      27.222500   58.67   \n",
       "3  04: Bourmont – Neufchâteau (Developed with signs)      29.234196  170.42   \n",
       "4  05: Neufchâteau – Vaucouleurs (Developed with ...      39.127542   79.84   \n",
       "\n",
       "   downhill  uphill_downhill  cycling_distance  underestimate  \n",
       "0    254.06           437.42           34.0506       1.087536  \n",
       "1     55.55            58.30           10.6126       0.403444  \n",
       "2     74.37           133.04           27.8323       0.609800  \n",
       "3    209.62           380.04           30.2979       1.063704  \n",
       "4    112.24           192.08           40.3949       1.267358  "
      ]
     },
     "execution_count": 34,
     "metadata": {},
     "output_type": "execute_result"
    }
   ],
   "source": [
    "statistic2['EuroVelo 19'].head()"
   ]
  },
  {
   "cell_type": "markdown",
   "metadata": {},
   "source": [
    "Looking at the values in the \"underestimate\" column, we can see that they are all positive, which means that using the length_3d method to calculate distances does underestimate the true road length"
   ]
  },
  {
   "cell_type": "code",
   "execution_count": 30,
   "metadata": {},
   "outputs": [],
   "source": [
    "left = statistic2['EuroVelo 14'][[\"uphill\",\"downhill\",\"uphill_downhill\",\"cycling_distance\",\"underestimate\"]]\n",
    "right = statistic2['EuroVelo 19'][[\"uphill\",\"downhill\",\"uphill_downhill\",\"cycling_distance\",\"underestimate\"]]\n",
    "error_anaylsis = pd.concat([left,right])"
   ]
  },
  {
   "cell_type": "markdown",
   "metadata": {},
   "source": [
    "Correlation heat map to analyse whether the length of the uphill and downhill slopes has an impact on the estimated distances and distance deviations"
   ]
  },
  {
   "cell_type": "code",
   "execution_count": 31,
   "metadata": {},
   "outputs": [],
   "source": [
    "def plot_heatmap(title, df_in, figsize=(5.5, 5)):\n",
    "    df_corr = df_in.corr()\n",
    "    # create a color palettte\n",
    "    cmap = sns.diverging_palette(230, 20, as_cmap=True)\n",
    "    # display the heatmap\n",
    "    f, ax = plt.subplots(figsize=figsize,dpi = 100)\n",
    "    sns.heatmap(df_corr, square=True, cbar=False,\n",
    "                annot=True, cmap=cmap, linewidths=0.5, vmin=-1)\n",
    "    ax.set_title(title)"
   ]
  },
  {
   "cell_type": "code",
   "execution_count": 32,
   "metadata": {},
   "outputs": [
    {
     "data": {
      "image/png": "[encoded data removed]",
      "text/plain": [
       "<Figure size 550x500 with 1 Axes>"
      ]
     },
     "metadata": {
      "needs_background": "light"
     },
     "output_type": "display_data"
    }
   ],
   "source": [
    "plot_heatmap(\"Correlations\", error_anaylsis)"
   ]
  },
  {
   "cell_type": "markdown",
   "metadata": {},
   "source": [
    "As can be seen from the graph above, there is not a strong correlation between the length of the uphill and downhill slopes and the distance underestimated"
   ]
  },
  {
   "cell_type": "markdown",
   "metadata": {},
   "source": [
    "## Discuss the merits of this error estimation\n",
    "From the distance calculated by the API above minus the distance calculated by gpx, the value in \"underestimate\" is all positive, which shows that there is a possibility that the distance is underestimated using length_3d. However, inaccurate distance calculations are not always a result of gpx underestimating distances, but can also be a result of using MapBox's API to calculate distances so that the actual distances are overestimated.\n",
    "\n",
    "Maps may overestimate routes, for example when legal turns are considered invalid, or there may be legal routes that have not been updated in the database, thus making MapBox's calculation of the route more complex and thus making the distance longer. It is also possible that if a long section of the route is straight one day, but there is some deviation in the position of each of the points provided, this can also lead to an increase in the calculated distance, as the straight line is calculated as a route with some curvature.\n",
    "\n",
    "Mountain bikes have a very large turning radius, so the design of the riding route can have more twists and turns than a typical road. Because there are so many dense turns, this can also lead to some turns being ignored when calculating the calculated distance, resulting in the true distance being underestimated.\n",
    "\n",
    "When obtaining distances via MapBox, I was not asked for elevation, only the longitude and latitude of each point. MapBox's calculation of elevation may also be biased, possibly overestimating or underestimating the elevation, which also makes the distance calculated by MapBox inaccurate to the actual distance."
   ]
  }
 ],
 "metadata": {
  "kernelspec": {
   "display_name": "Python 3",
   "language": "python",
   "name": "python3"
  },
  "language_info": {
   "codemirror_mode": {
    "name": "ipython",
    "version": 3
   },
   "file_extension": ".py",
   "mimetype": "text/x-python",
   "name": "python",
   "nbconvert_exporter": "python",
   "pygments_lexer": "ipython3",
   "version": "3.8.5"
  }
 },
 "nbformat": 4,
 "nbformat_minor": 4
}
