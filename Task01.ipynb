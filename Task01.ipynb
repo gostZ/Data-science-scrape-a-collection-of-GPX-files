{
 "cells": [
  {
   "cell_type": "markdown",
   "metadata": {},
   "source": [
    "# Assignment 2\n",
    "# Task 1\n",
   ]
  },
  {
   "cell_type": "code",
   "execution_count": 4,
   "metadata": {},
   "outputs": [],
   "source": [
    "import requests\n",
    "from bs4 import BeautifulSoup\n",
    "import urllib.request\n",
    "from pathlib import Path"
   ]
  },
  {
   "cell_type": "code",
   "execution_count": 5,
   "metadata": {},
   "outputs": [
    {
     "data": {
      "text/plain": [
       "<Response [200]>"
      ]
     },
     "execution_count": 5,
     "metadata": {},
     "output_type": "execute_result"
    }
   ],
   "source": [
    "page = requests.get(\"http://mlg.ucd.ie/modules/python/EVdata\")\n",
    "page"
   ]
  },
  {
   "cell_type": "code",
   "execution_count": 6,
   "metadata": {},
   "outputs": [
    {
     "data": {
      "text/plain": [
       "200"
      ]
     },
     "execution_count": 6,
     "metadata": {},
     "output_type": "execute_result"
    }
   ],
   "source": [
    "page.status_code"
   ]
  },
  {
   "cell_type": "code",
   "execution_count": 8,
   "metadata": {},
   "outputs": [],
   "source": [
    "#Create an instance of the BeautifulSoup class to parse our documents\n",
    "soup = BeautifulSoup(page.content, 'html.parser')"
   ]
  },
  {
   "cell_type": "code",
   "execution_count": 9,
   "metadata": {},
   "outputs": [
    {
     "name": "stdout",
     "output_type": "stream",
     "text": [
      "<!DOCTYPE html>\n",
      "<html>\n",
      " <head>\n",
      "  <meta content=\"noindex,nofollow\" name=\"robots\"/>\n",
      "  <meta charset=\"utf-8\">\n",
      "   <title>\n",
      "    EuroVelo 1\n",
      "   </title>\n",
      "  </meta>\n",
      " </head>\n",
      " <body style=\"font-family:Arial;\">\n",
      "  <img alt=\"EuroVelo Logo\" src=\"ev_image.jpeg\"/>\n",
      "  <h2>\n",
      "   EuroVelo Route List\n",
      "  </h2>\n",
      "  <p>\n",
      "   Links to web pages for each of the EuroVelo routes.\n",
      "  </p>\n",
      "  <ul>\n",
      "   <li>\n",
      "    <a href=\"ev1.html\">\n",
      "     1. Atlantic Coast Route\n",
      "    </a>\n",
      "   </li>\n",
      "   <li>\n",
      "    <a href=\"ev2.html\">\n",
      "     2. Capitals Route\n",
      "    </a>\n",
      "   </li>\n",
      "   <li>\n",
      "    <a href=\"ev3.html\">\n",
      "     3. Pilgrims Route\n",
      "    </a>\n",
      "   </li>\n",
      "   <li>\n",
      "    <a href=\"ev4.html\">\n",
      "     4. Central Europe Route\n",
      "    </a>\n",
      "   </li>\n",
      "   <li>\n",
      "    <a href=\"ev5.html\">\n",
      "     5. Via Romea (Francigena)\n",
      "    </a>\n",
      "   </li>\n",
      "   <li>\n",
      "    <a href=\"ev6.html\">\n",
      "     6. Atlantic – Black Sea\n",
      "    </a>\n",
      "   </li>\n",
      "   <li>\n",
      "    <a href=\"ev7.html\">\n",
      "     7. Sun Route\n",
      "    </a>\n",
      "   </li>\n",
      "   <li>\n",
      "    <a href=\"ev8.html\">\n",
      "     8. Mediterranean Route\n",
      "    </a>\n",
      "   </li>\n",
      "   <li>\n",
      "    <a href=\"ev9.html\">\n",
      "     9. Baltic – Adriatic\n",
      "    </a>\n",
      "   </li>\n",
      "   <li>\n",
      "    <a href=\"ev10.html\">\n",
      "     10. Baltic Sea Cycle Route\n",
      "    </a>\n",
      "   </li>\n",
      "   <li>\n",
      "    <a href=\"ev11.html\">\n",
      "     11. East Europe Route\n",
      "    </a>\n",
      "   </li>\n",
      "   <li>\n",
      "    <a href=\"ev12.html\">\n",
      "     12. North Sea Cycle Route\n",
      "    </a>\n",
      "   </li>\n",
      "   <li>\n",
      "    <a href=\"ev13.html\">\n",
      "     13. Iron Curtain Trail\n",
      "    </a>\n",
      "   </li>\n",
      "   <li>\n",
      "    <a href=\"ev14.html\">\n",
      "     14. Waters of Central Europe\n",
      "    </a>\n",
      "   </li>\n",
      "   <li>\n",
      "    <a href=\"ev15.html\">\n",
      "     15. Rhine Cycle Route\n",
      "    </a>\n",
      "   </li>\n",
      "   <li>\n",
      "    <a href=\"ev17.html\">\n",
      "     17. Rhone Cycle Route\n",
      "    </a>\n",
      "   </li>\n",
      "   <li>\n",
      "    <a href=\"ev19.html\">\n",
      "     19. Meuse Cycle Route\n",
      "    </a>\n",
      "   </li>\n",
      "  </ul>\n",
      "  <div class=\"footer\">\n",
      "   Content on this site is posted for teaching purposes only.\n",
      "  </div>\n",
      " </body>\n",
      "</html>\n"
     ]
    }
   ],
   "source": [
    "print(soup.prettify())"
   ]
  },
  {
   "cell_type": "code",
   "execution_count": 7,
   "metadata": {},
   "outputs": [],
   "source": [
    "url_list = []\n",
    "for lis in soup.find_all('a'):\n",
    "    url_list.append(lis['href'])"
   ]
  },
  {
   "cell_type": "code",
   "execution_count": 13,
   "metadata": {},
   "outputs": [
    {
     "data": {
      "text/plain": [
       "['gpx_data/ev1.gpx',\n",
       " 'gpx_data/ev2.gpx',\n",
       " 'gpx_data/ev3.gpx',\n",
       " 'gpx_data/ev4.gpx',\n",
       " 'gpx_data/ev5.gpx',\n",
       " 'gpx_data/ev6.gpx',\n",
       " 'gpx_data/ev7.gpx',\n",
       " 'gpx_data/ev8.gpx',\n",
       " 'gpx_data/ev9.gpx',\n",
       " 'gpx_data/ev10.gpx',\n",
       " 'gpx_data/ev11.gpx',\n",
       " 'gpx_data/ev12.gpx',\n",
       " 'gpx_data/ev13.gpx',\n",
       " 'gpx_data/ev14.gpx',\n",
       " 'gpx_data/ev15.gpx',\n",
       " 'gpx_data/ev17.gpx',\n",
       " 'gpx_data/ev19.gpx']"
      ]
     },
     "execution_count": 13,
     "metadata": {},
     "output_type": "execute_result"
    }
   ],
   "source": [
    "urlist = []\n",
    "for p in url_list:\n",
    "    page2 = requests.get(\"http://mlg.ucd.ie/modules/python/EVdata/\"+p)\n",
    "    soup = BeautifulSoup(page2.content, 'html.parser')\n",
    "#     print(soup.prettify())\n",
    "    urlist.append(soup.find_all('a')[0]['href'])\n",
    "urlist"
   ]
  },
  {
   "cell_type": "markdown",
   "metadata": {},
   "source": [
    "Create directory for raw data storage, if it does not already exist:"
   ]
  },
  {
   "cell_type": "code",
   "execution_count": 9,
   "metadata": {},
   "outputs": [],
   "source": [
    "dir_raw = Path(\"gpx_data\")\n",
    "dir_raw.mkdir(parents=True, exist_ok=True)"
   ]
  },
  {
   "cell_type": "code",
   "execution_count": 11,
   "metadata": {},
   "outputs": [],
   "source": [
    "for url in urlist:\n",
    "    url2 = \"http://mlg.ucd.ie/modules/python/EVdata/\"+url\n",
    "    response = requests.get(url2)\n",
    "    open(url, \"wb\").write(response.content)"
   ]
  }
 ],
 "metadata": {
  "kernelspec": {
   "display_name": "Python 3",
   "language": "python",
   "name": "python3"
  },
  "language_info": {
   "codemirror_mode": {
    "name": "ipython",
    "version": 3
   },
   "file_extension": ".py",
   "mimetype": "text/x-python",
   "name": "python",
   "nbconvert_exporter": "python",
   "pygments_lexer": "ipython3",
   "version": "3.8.5"
  }
 },
 "nbformat": 4,
 "nbformat_minor": 4
}
